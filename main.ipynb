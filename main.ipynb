{
  "nbformat": 4,
  "nbformat_minor": 0,
  "metadata": {
    "colab": {
      "provenance": []
    },
    "kernelspec": {
      "name": "python3",
      "display_name": "Python 3"
    },
    "language_info": {
      "name": "python"
    }
  },
  "cells": [
    {
      "cell_type": "code",
      "execution_count": 1,
      "metadata": {
        "colab": {
          "base_uri": "https://localhost:8080/"
        },
        "id": "WHJ0hW2Onuae",
        "outputId": "dcb418af-cd28-47bb-e76c-0696a3a8dc36"
      },
      "outputs": [
        {
          "output_type": "stream",
          "name": "stdout",
          "text": [
            "Collecting faker\n",
            "  Downloading Faker-26.3.0-py3-none-any.whl.metadata (15 kB)\n",
            "Requirement already satisfied: python-dateutil>=2.4 in /usr/local/lib/python3.10/dist-packages (from faker) (2.8.2)\n",
            "Requirement already satisfied: six>=1.5 in /usr/local/lib/python3.10/dist-packages (from python-dateutil>=2.4->faker) (1.16.0)\n",
            "Downloading Faker-26.3.0-py3-none-any.whl (1.8 MB)\n",
            "\u001b[2K   \u001b[90m━━━━━━━━━━━━━━━━━━━━━━━━━━━━━━━━━━━━━━━━\u001b[0m \u001b[32m1.8/1.8 MB\u001b[0m \u001b[31m16.2 MB/s\u001b[0m eta \u001b[36m0:00:00\u001b[0m\n",
            "\u001b[?25hInstalling collected packages: faker\n",
            "Successfully installed faker-26.3.0\n",
            "Collecting pyspark\n",
            "  Downloading pyspark-3.5.1.tar.gz (317.0 MB)\n",
            "\u001b[2K     \u001b[90m━━━━━━━━━━━━━━━━━━━━━━━━━━━━━━━━━━━━━━━━\u001b[0m \u001b[32m317.0/317.0 MB\u001b[0m \u001b[31m5.0 MB/s\u001b[0m eta \u001b[36m0:00:00\u001b[0m\n",
            "\u001b[?25h  Preparing metadata (setup.py) ... \u001b[?25l\u001b[?25hdone\n",
            "Requirement already satisfied: py4j==0.10.9.7 in /usr/local/lib/python3.10/dist-packages (from pyspark) (0.10.9.7)\n",
            "Building wheels for collected packages: pyspark\n",
            "  Building wheel for pyspark (setup.py) ... \u001b[?25l\u001b[?25hdone\n",
            "  Created wheel for pyspark: filename=pyspark-3.5.1-py2.py3-none-any.whl size=317488493 sha256=69038c15df4a9448c406cbcddfcf1537ceab94a6087db16b314269db5c899c00\n",
            "  Stored in directory: /root/.cache/pip/wheels/80/1d/60/2c256ed38dddce2fdd93be545214a63e02fbd8d74fb0b7f3a6\n",
            "Successfully built pyspark\n",
            "Installing collected packages: pyspark\n",
            "Successfully installed pyspark-3.5.1\n"
          ]
        }
      ],
      "source": [
        "!pip install faker\n",
        "!pip install pyspark\n"
      ]
    },
    {
      "cell_type": "code",
      "source": [
        "from pyspark.sql import SparkSession\n",
        "from pyspark.sql.functions import col, to_date\n",
        "from pyspark.sql.types import IntegerType\n",
        "\n",
        "spark = SparkSession.builder.appName(\"IP_analytics\").getOrCreate()\n",
        "\n",
        "df = spark.read.csv(\"/content/web_server_logs.csv\", header=True)\n",
        "df = df.withColumn(\"timestamp\", to_date(col(\"timestamp\")))\n",
        "df.createOrReplaceTempView(\"df\")\n",
        "\n",
        "most_active_ip = spark.sql(\"\"\"\n",
        "SELECT ip, count(*) as request_count\n",
        "FROM df\n",
        "GROUP BY ip\n",
        "ORDER BY request_count desc\n",
        "LIMIT 10\n",
        "\"\"\")\n",
        "\n",
        "count_by_method = spark.sql(\"\"\"\n",
        "SELECT method, count(method) as method_count\n",
        "FROM df\n",
        "GROUP BY method\n",
        "ORDER BY method_count DESC\n",
        "\"\"\")\n",
        "\n",
        "count_404 = spark.sql(\"\"\"\n",
        "SELECT count(response_code) as count\n",
        "FROM df\n",
        "WHERE response_code = 404\n",
        "GROUP BY response_code\n",
        "\"\"\").collect()\n",
        "\n",
        "sum_by_date = spark.sql(\"\"\"\n",
        "SELECT timestamp as date, sum(response_size) OVER (PARTITION BY timestamp) as total_response_size\n",
        "FROM df\n",
        "ORDER BY date\n",
        "\"\"\")\n",
        "sum_by_date = sum_by_date.withColumn(\"total_response_size\", sum_by_date[\"total_response_size\"].cast(IntegerType()))\n",
        "\n",
        "print(\"Top 10 active IP addresses:\")\n",
        "most_active_ip.show()\n",
        "print(\"Request count by HTTP method\")\n",
        "count_by_method.show()\n",
        "print(\"Number of 404 response codes:\", count_404[-1][-1])\n",
        "print(\"Total response size by day:\")\n",
        "sum_by_date.show()\n",
        "spark.stop()"
      ],
      "metadata": {
        "colab": {
          "base_uri": "https://localhost:8080/"
        },
        "id": "nnk8nT-KqOow",
        "outputId": "ce639329-6926-42ca-dec9-dc4ef7cae5f6"
      },
      "execution_count": 28,
      "outputs": [
        {
          "output_type": "stream",
          "name": "stdout",
          "text": [
            "Top 10 active IP addresses:\n",
            "+---------------+-------------+\n",
            "|             ip|request_count|\n",
            "+---------------+-------------+\n",
            "|  198.15.43.225|            2|\n",
            "| 221.91.221.118|            2|\n",
            "|   64.88.67.182|            2|\n",
            "| 55.169.155.129|            2|\n",
            "|183.107.197.133|            2|\n",
            "|176.156.215.151|            1|\n",
            "|   46.81.111.63|            1|\n",
            "| 129.16.217.126|            1|\n",
            "|  199.182.41.82|            1|\n",
            "| 49.154.186.213|            1|\n",
            "+---------------+-------------+\n",
            "\n",
            "Request count by HTTP method\n",
            "+------+------------+\n",
            "|method|method_count|\n",
            "+------+------------+\n",
            "|   PUT|       25097|\n",
            "|  POST|       25084|\n",
            "|DELETE|       25008|\n",
            "|   GET|       24811|\n",
            "+------+------------+\n",
            "\n",
            "Number of 404 response codes: 24894\n",
            "Total response size by day:\n",
            "+----------+-------------------+\n",
            "|      date|total_response_size|\n",
            "+----------+-------------------+\n",
            "|2024-01-01|            2402878|\n",
            "|2024-01-01|            2402878|\n",
            "|2024-01-01|            2402878|\n",
            "|2024-01-01|            2402878|\n",
            "|2024-01-01|            2402878|\n",
            "|2024-01-01|            2402878|\n",
            "|2024-01-01|            2402878|\n",
            "|2024-01-01|            2402878|\n",
            "|2024-01-01|            2402878|\n",
            "|2024-01-01|            2402878|\n",
            "|2024-01-01|            2402878|\n",
            "|2024-01-01|            2402878|\n",
            "|2024-01-01|            2402878|\n",
            "|2024-01-01|            2402878|\n",
            "|2024-01-01|            2402878|\n",
            "|2024-01-01|            2402878|\n",
            "|2024-01-01|            2402878|\n",
            "|2024-01-01|            2402878|\n",
            "|2024-01-01|            2402878|\n",
            "|2024-01-01|            2402878|\n",
            "+----------+-------------------+\n",
            "only showing top 20 rows\n",
            "\n"
          ]
        }
      ]
    }
  ]
}